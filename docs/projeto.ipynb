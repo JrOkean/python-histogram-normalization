{
 "cells": [
  {
   "cell_type": "code",
   "execution_count": 1,
   "metadata": {},
   "outputs": [],
   "source": [
    "# Instalando ibliotecas necessárias para as manipulaçãos\n",
    "\n",
    "import numpy as np #p/ manipulação de matrizes\n",
    "from skimage import io, data #manipulação e funções de manipulação de dados (dados foi usado apenas para teste)\n",
    "import matplotlib.pyplot as plt #p/ demonstração de gráfico e das imagens\n",
    "import os #acesso aos arquivos\n",
    "import cv2 #manipulação do vídeo\n",
    "import logging "
   ]
  },
  {
   "cell_type": "code",
   "execution_count": 2,
   "metadata": {},
   "outputs": [],
   "source": [
    "#formatando log para controle do fluxo\n",
    "caminho = '../log/notebook.log'\n",
    "logging.basicConfig(level=logging.INFO, filename=caminho, filemode='a', format=\"%(asctime)s - %(levelname)s - %(message)s\", encoding='utf-8')"
   ]
  },
  {
   "cell_type": "code",
   "execution_count": 3,
   "metadata": {},
   "outputs": [],
   "source": [
    "# Trecho para determinar a necessidade da equalização\n",
    "\n",
    "def _desvio_padrao(frame_h:np.histogram)->tuple:\n",
    "  media_ = np.mean(frame_h)\n",
    "  logging.info(\"A média: %2.f\", media_)\n",
    "  dif_quadradas = (frame_h - media_) ** 2\n",
    "  #logging.info(\"Matriz de diferenças quadradas: $s\", str(dif_quadradas))\n",
    "  media_diff_ = np.mean(dif_quadradas)\n",
    "  logging.info(\"Media da Matriz de diferenças: %2.f\", media_diff_)\n",
    "  desvio_padrao = np.sqrt(media_diff_)\n",
    "  return desvio_padrao, media_\n",
    "\n",
    "def avalia_pic(matriz_imagem:np.array)->tuple:\n",
    "    histograma = np.histogram(matriz_imagem, bins=256, range=(0,255))\n",
    "    #plt.plot (histograma[0],'-k')\n",
    "    desvio_, media_ = _desvio_padrao(histograma[0])\n",
    "    logging.info(\"Desvio Padrão: %2.f\", desvio_)\n",
    "    coff = desvio_ / media_\n",
    "    logging.info(\"Coeficiente de variação: %2.f\", coff)\n",
    "    if coff < 1.0: # a verificar\n",
    "      y_n = False\n",
    "    else: \n",
    "      y_n = True\n",
    "    return y_n, histograma"
   ]
  },
  {
   "cell_type": "code",
   "execution_count": 4,
   "metadata": {},
   "outputs": [],
   "source": [
    "# Funções para a equalização\n",
    "def _funcao_transferencia(frame, frame_h:np.histogram):\n",
    "  l,c = frame.shape \n",
    "  n = l*c \n",
    "  pr = frame_h[0]/ n\n",
    "  return np.cumsum (pr)\n",
    "\n",
    "\n",
    "def normalizacao_histogramica(histograma_:np.histogram, _transferencia, img:np.array):\n",
    "  imgh = np.zeros_like(img).astype('float')\n",
    "  l,c = img.shape\n",
    "  for i in range(l):\n",
    "    for j in range(c):\n",
    "      imgh[i,j] = _transferencia[[img[i, j]]]\n",
    "  return imgh\n",
    "\n",
    "def demonstracao(img):\n",
    "  _,ax = plt.subplots (1,2)\n",
    "  ax[0].imshow ((img*255).astype('uint8'),cmap='gray',vmin=0,vmax=255)\n",
    "  h = np.histogram (img,bins=256)\n",
    "  ax[1].plot (h[0],'-k')\n",
    "  logging.info(\"np.sum equalizado: %d\", np.sum(h[0]))"
   ]
  },
  {
   "cell_type": "code",
   "execution_count": 5,
   "metadata": {},
   "outputs": [
    {
     "name": "stderr",
     "output_type": "stream",
     "text": [
      "C:\\Users\\Joana\\AppData\\Local\\Temp\\ipykernel_15944\\1252220516.py:18: RuntimeWarning: More than 20 figures have been opened. Figures created through the pyplot interface (`matplotlib.pyplot.figure`) are retained until explicitly closed and may consume too much memory. (To control this warning, see the rcParam `figure.max_open_warning`). Consider using `matplotlib.pyplot.close()`.\n",
      "  _,ax = plt.subplots (1,2)\n"
     ]
    }
   ],
   "source": [
    "#Capturar os videos\n",
    "# Inicializar o objeto VideoCapture\n",
    "caminho_video1 = '../tests/origem/VID_20240405_234240.mp4'\n",
    "caminho_video2 = '../tests/origem/VID_20240405_234310.mp4'\n",
    "caminho_video3 = '../tests/origem/VID-20240406-WA0059.mp4'\n",
    "\n",
    "cap = cv2.VideoCapture(caminho_video1)\n",
    " \n",
    "while cap.isOpened():\n",
    "    ret, frame = cap.read()\n",
    "    if not ret:\n",
    "        logging.error(\"Can't receive frame (stream end?). Exiting ...\")\n",
    "        break\n",
    "    #logging.info(frame)\n",
    "    gray = cv2.cvtColor(frame, cv2.COLOR_BGR2GRAY)\n",
    "    #plt.imshow(gray, cmap='gray')\n",
    "    #plt.show()\n",
    "    yeah, h_ = avalia_pic(gray)\n",
    "    \n",
    "    video_writer = cv2.VideoWriter(\n",
    "        \"../saida/video.avi\",\n",
    "        cv2.VideoWriter_fourcc(*\"XVID\"),\n",
    "        30,\n",
    "        (gray.shape[1], gray.shape[0]),\n",
    "    )\n",
    "\n",
    "    if yeah == True:\n",
    "        func = _funcao_transferencia(gray, h_)\n",
    "        imgh = normalizacao_histogramica(h_, func, gray)\n",
    "        #demonstracao(imgh)\n",
    "        video_writer.write(imgh)\n",
    "    else:\n",
    "        video_writer.write(gray)\n",
    "        #_, ax = plt.subplots (1, 2)\n",
    "        #ax[0].imshow(gray, cmap='gray')\n",
    "        #ax[1].plot(h_[0], '-k')\n",
    "        logging.info(\"np.sum não equalizado: %d\", np.sum(h_[0]))\n",
    "    \n",
    "    \n",
    "    video_writer.release()\n",
    " \n",
    "cap.release()\n",
    "cv2.destroyAllWindows()"
   ]
  }
 ],
 "metadata": {
  "kernelspec": {
   "display_name": "Python 3",
   "language": "python",
   "name": "python3"
  },
  "language_info": {
   "codemirror_mode": {
    "name": "ipython",
    "version": 3
   },
   "file_extension": ".py",
   "mimetype": "text/x-python",
   "name": "python",
   "nbconvert_exporter": "python",
   "pygments_lexer": "ipython3",
   "version": "3.10.8"
  }
 },
 "nbformat": 4,
 "nbformat_minor": 2
}
